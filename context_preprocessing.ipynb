{
 "cells": [
  {
   "cell_type": "code",
   "execution_count": 18,
   "metadata": {},
   "outputs": [],
   "source": [
    "# Load data and Library\n",
    "\n",
    "import os\n",
    "import json\n",
    "import numpy as np\n",
    "from transformers import AutoTokenizer\n",
    "import matplotlib.pyplot as plt\n",
    "import torch\n",
    "\n",
    "datas = [\n",
    "    'data/data_fold/data_0/dailydialog_train.json',\n",
    "    'data/data_fold/data_0/dailydialog_valid.json',\n",
    "    'data/data_fold/data_0/dailydialog_test.json',\n",
    "]\n",
    "\n",
    "encoder_name = 'bert-base-cased'"
   ]
  },
  {
   "cell_type": "code",
   "execution_count": 10,
   "metadata": {},
   "outputs": [],
   "source": [
    "datafile = datas[0]\n",
    "f = open(datafile)\n",
    "data = json.load(f)\n",
    "f.close()\n",
    "tokenizer_ = AutoTokenizer.from_pretrained(encoder_name)"
   ]
  },
  {
   "cell_type": "code",
   "execution_count": 16,
   "metadata": {},
   "outputs": [
    {
     "data": {
      "text/plain": [
       "0"
      ]
     },
     "execution_count": 16,
     "metadata": {},
     "output_type": "execute_result"
    }
   ],
   "source": [
    "tokenizer_.add_special_tokens({'additional_special_tokens': ['<speaker1>', '<speaker2>','<emotion>']})  # speaker token 추가 emotion token 추가"
   ]
  },
  {
   "cell_type": "code",
   "execution_count": 112,
   "metadata": {},
   "outputs": [],
   "source": [
    "def load_utterance_with_context(data_file, device, max_seq_len, encoder_name):\n",
    "    def make_context(utterance_list, start_t, end_t, max_seq_len):\n",
    "        context = \"[SEP]\".join(utterance_list[start_t:end_t][::-1])\n",
    "\n",
    "        if start_t > end_t:\n",
    "            return \"\"\n",
    "\n",
    "        if len(context.split()) + len(utterance_list[end_t].split()) > max_seq_len:\n",
    "            context = make_context(utterance_list=utterance_list, start_t=start_t+1, end_t=end_t, max_seq_len=max_seq_len)\n",
    "        else:\n",
    "            return context\n",
    "        \n",
    "        # ver2\n",
    "         \n",
    "        return context\n",
    "    \n",
    "    f = open(data_file)\n",
    "    data = json.load(f)\n",
    "    f.close()\n",
    "\n",
    "    tokenizer_ = AutoTokenizer.from_pretrained(encoder_name)\n",
    "\n",
    "    max_seq_len = max_seq_len\n",
    "    max_doc_len = 0\n",
    "\n",
    "    doc_utterance = list()\n",
    "\n",
    "    for doc_id, content in data.items():\n",
    "        single_utterances = list()\n",
    "        utterance = list()\n",
    "        content = content[0]\n",
    "        max_doc_len = max(len(content), max_doc_len)\n",
    "\n",
    "        for turn_data in content:\n",
    "            single_utterances.append(turn_data[\"utterance\"])\n",
    "\n",
    "        for end_t in range(len(single_utterances)):\n",
    "            context = make_context(utterance_list=single_utterances, start_t=0, end_t=end_t, max_seq_len=max_seq_len)\n",
    "\n",
    "            utterance.append(tokenizer_(single_utterances[end_t], context, padding='max_length', max_length = max_seq_len, truncation=True, return_tensors=\"pt\"))\n",
    "        \n",
    "        doc_utterance.append(utterance)\n",
    "        \n",
    "    out_utterance_input_ids, out_utterance_attention_mask, out_utterance_token_type_ids = [list() for _ in range(3)]\n",
    "\n",
    "    for utterance_t in doc_utterance:\n",
    "        padding_sequence = tokenizer_('', padding='max_length', max_length = max_seq_len, truncation=True, return_tensors=\"pt\")\n",
    "\n",
    "        padding_sequence_t = [padding_sequence for _ in range(max_doc_len - len(utterance_t))]\n",
    "\n",
    "        utterance_t = utterance_t + padding_sequence_t\n",
    "        utterance_input_ids_t, utterance_attention_mask_t, utterance_token_type_ids_t = [list() for _ in range(3)]\n",
    "        for _ in utterance_t:\n",
    "            utterance_input_ids_t.append(_['input_ids'])\n",
    "            utterance_attention_mask_t.append(_['attention_mask'])\n",
    "            utterance_token_type_ids_t.append(_['token_type_ids'])\n",
    "\n",
    "        utterance_input_ids_t = torch.vstack(utterance_input_ids_t)\n",
    "        utterance_attention_mask_t = torch.vstack(utterance_attention_mask_t)\n",
    "        utterance_token_type_ids_t = torch.vstack(utterance_token_type_ids_t)\n",
    "\n",
    "        out_utterance_input_ids.append(utterance_input_ids_t)\n",
    "        out_utterance_attention_mask.append(utterance_attention_mask_t)\n",
    "        out_utterance_token_type_ids.append(utterance_token_type_ids_t)\n",
    "\n",
    "    out_utterance_input_ids, out_utterance_attention_mask, out_utterance_token_type_ids = torch.stack(out_utterance_input_ids), torch.stack(out_utterance_attention_mask), torch.stack(out_utterance_token_type_ids)\n",
    "    # return (out_utterance_input_ids.to(device), out_utterance_attention_mask.to(device), out_utterance_token_type_ids.to(device)), max_doc_len, max_seq_len\n",
    "    \n",
    "    # device로 보내는 옵션을 해제 ( CUDA error: initialization error 때문에 )\n",
    "    return (out_utterance_input_ids, out_utterance_attention_mask, out_utterance_token_type_ids), max_doc_len, max_seq_len\n"
   ]
  },
  {
   "cell_type": "code",
   "execution_count": 113,
   "metadata": {},
   "outputs": [],
   "source": [
    "max_seq_len = 75"
   ]
  },
  {
   "cell_type": "code",
   "execution_count": 115,
   "metadata": {},
   "outputs": [
    {
     "data": {
      "text/plain": [
       "\"[CLS] Isn't that a scary movie? [SEP] Ah, my girlfriend wanted to see that movie. I have to take her later so I don't want to watch it ahead of time. How about The Cube? [SEP] How about Legally Blonde. [SEP] Sounds like a good plan. What do you want to see? [SEP] Hey, you wanna see [SEP]\""
      ]
     },
     "execution_count": 115,
     "metadata": {},
     "output_type": "execute_result"
    }
   ],
   "source": [
    "preprocessed_utterance, max_doc_len, max_seq_len = load_utterance_with_context(datafile, 'cpu', max_seq_len, encoder_name)\n",
    "tokenizer_.decode(preprocessed_utterance[0][0][4])"
   ]
  },
  {
   "cell_type": "code",
   "execution_count": 118,
   "metadata": {},
   "outputs": [
    {
     "data": {
      "text/plain": [
       "'[CLS] Sounds like a good plan. What do you want to see? [SEP] Hey, you wanna see a movie tomorrow? [SEP] [PAD] [PAD] [PAD] [PAD] [PAD] [PAD] [PAD] [PAD] [PAD] [PAD] [PAD] [PAD] [PAD] [PAD] [PAD] [PAD] [PAD] [PAD] [PAD] [PAD] [PAD] [PAD] [PAD] [PAD] [PAD] [PAD] [PAD] [PAD] [PAD] [PAD] [PAD] [PAD] [PAD] [PAD] [PAD] [PAD] [PAD] [PAD] [PAD] [PAD] [PAD] [PAD] [PAD] [PAD] [PAD] [PAD] [PAD] [PAD] [PAD] [PAD]'"
      ]
     },
     "execution_count": 118,
     "metadata": {},
     "output_type": "execute_result"
    }
   ],
   "source": [
    "tokenizer_.decode(preprocessed_utterance[0][0][1])"
   ]
  },
  {
   "cell_type": "code",
   "execution_count": 97,
   "metadata": {},
   "outputs": [
    {
     "data": {
      "text/plain": [
       "tensor([0, 0, 0, 0, 0, 0, 0, 0, 0, 0, 0, 0, 0, 0, 0, 0, 0, 1, 1, 1, 1, 1, 1, 1,\n",
       "        1, 1, 1, 1, 1, 1, 1, 1, 1, 1, 1, 1, 1, 1, 1, 1, 1, 1, 1, 1, 1, 1, 1, 1,\n",
       "        1, 1, 1, 1, 1, 1, 1, 1, 1, 1, 1, 1, 1, 1, 1, 1, 1, 1, 1, 1, 1, 1, 1, 1,\n",
       "        1, 1, 1])"
      ]
     },
     "execution_count": 97,
     "metadata": {},
     "output_type": "execute_result"
    }
   ],
   "source": [
    "preprocessed_utterance[2][0][5]"
   ]
  },
  {
   "cell_type": "code",
   "execution_count": 107,
   "metadata": {},
   "outputs": [
    {
     "data": {
      "text/plain": [
       "tensor(1)"
      ]
     },
     "execution_count": 107,
     "metadata": {},
     "output_type": "execute_result"
    }
   ],
   "source": [
    "preprocessed_utterance[2][0][5][17]"
   ]
  },
  {
   "cell_type": "code",
   "execution_count": 109,
   "metadata": {},
   "outputs": [
    {
     "data": {
      "text/plain": [
       "'Hey'"
      ]
     },
     "execution_count": 109,
     "metadata": {},
     "output_type": "execute_result"
    }
   ],
   "source": [
    "tokenizer_.decode(preprocessed_utterance[0][0][5][17])"
   ]
  },
  {
   "cell_type": "code",
   "execution_count": 60,
   "metadata": {},
   "outputs": [
    {
     "data": {
      "text/plain": [
       "\"[CLS] Ah, my girlfriend wanted to see that movie. I have to take her later so I don't want to watch it ahead of time. How about The Cube? [SEP] Hey, you wanna see a movie tomorrow? [SEP] Sounds like a good plan. What do you want to see? [SEP] How about Legally Blonde. [SEP] [PAD] [PAD] [PAD] [PAD] [PAD] [SEP]\""
      ]
     },
     "execution_count": 60,
     "metadata": {},
     "output_type": "execute_result"
    }
   ],
   "source": [
    "tokenizer_.decode((tokenizer_.encode(sep문장)[1:]))"
   ]
  },
  {
   "cell_type": "code",
   "execution_count": 62,
   "metadata": {},
   "outputs": [
    {
     "data": {
      "text/plain": [
       "tensor([  101,  7066,   117,  1139,  6124,  1458,  1106,  1267,  1115,  2523,\n",
       "          119,   146,  1138,  1106,  1321,  1123,  1224,  1177,   146,  1274,\n",
       "          112,   189,  1328,  1106,  2824,  1122,  3075,  1104,  1159,   119,\n",
       "         1731,  1164,  1109,   140, 15209,   136,   102,  4403,   117,  1128,\n",
       "        16445,  1267,   170,  2523,  4911,   136, 10560,  1176,   170,  1363,\n",
       "         2197,   119,  1327,  1202,  1128,  1328,  1106,  1267,   136,  1731,\n",
       "         1164, 10800,  1193,   139,  4934,  2007,   119,   102,     0,     0,\n",
       "            0,     0,     0,     0,     0])"
      ]
     },
     "execution_count": 62,
     "metadata": {},
     "output_type": "execute_result"
    }
   ],
   "source": [
    "preprocessed_utterance[0][0][3]"
   ]
  },
  {
   "cell_type": "code",
   "execution_count": 69,
   "metadata": {},
   "outputs": [
    {
     "data": {
      "text/plain": [
       "0"
      ]
     },
     "execution_count": 69,
     "metadata": {},
     "output_type": "execute_result"
    }
   ],
   "source": [
    "tokenizer_.encode('[PAD]')[1]"
   ]
  },
  {
   "cell_type": "code",
   "execution_count": 72,
   "metadata": {},
   "outputs": [
    {
     "data": {
      "text/plain": [
       "'##ube'"
      ]
     },
     "execution_count": 72,
     "metadata": {},
     "output_type": "execute_result"
    }
   ],
   "source": [
    "tokenizer_.decode(15209)"
   ]
  },
  {
   "cell_type": "code",
   "execution_count": null,
   "metadata": {},
   "outputs": [],
   "source": []
  }
 ],
 "metadata": {
  "kernelspec": {
   "display_name": "prgmoe",
   "language": "python",
   "name": "python3"
  },
  "language_info": {
   "codemirror_mode": {
    "name": "ipython",
    "version": 3
   },
   "file_extension": ".py",
   "mimetype": "text/x-python",
   "name": "python",
   "nbconvert_exporter": "python",
   "pygments_lexer": "ipython3",
   "version": "3.10.10"
  },
  "orig_nbformat": 4
 },
 "nbformat": 4,
 "nbformat_minor": 2
}
