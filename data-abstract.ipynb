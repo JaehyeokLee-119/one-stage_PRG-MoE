{
 "cells": [
  {
   "cell_type": "code",
   "execution_count": 1,
   "metadata": {},
   "outputs": [
    {
     "name": "stderr",
     "output_type": "stream",
     "text": [
      "/home/hjl8708/anaconda3/envs/prgmoe/lib/python3.10/site-packages/tqdm/auto.py:21: TqdmWarning: IProgress not found. Please update jupyter and ipywidgets. See https://ipywidgets.readthedocs.io/en/stable/user_install.html\n",
      "  from .autonotebook import tqdm as notebook_tqdm\n",
      "2023-05-07 12:23:22.327270: I tensorflow/core/platform/cpu_feature_guard.cc:193] This TensorFlow binary is optimized with oneAPI Deep Neural Network Library (oneDNN) to use the following CPU instructions in performance-critical operations:  SSE4.1 SSE4.2 AVX AVX2 AVX512F AVX512_VNNI FMA\n",
      "To enable them in other operations, rebuild TensorFlow with the appropriate compiler flags.\n"
     ]
    }
   ],
   "source": [
    "# Load data and Library\n",
    "\n",
    "import os\n",
    "import json\n",
    "import numpy as np\n",
    "from transformers import AutoTokenizer\n",
    "import matplotlib.pyplot as plt\n",
    "\n",
    "datas = [\n",
    "    'data/data_fold/data_0/dailydialog_train.json',\n",
    "    'data/data_fold/data_0/dailydialog_valid.json',\n",
    "    'data/data_fold/data_0/dailydialog_test.json',\n",
    "]\n",
    "\n",
    "# # Another folds\n",
    "# fold_ = 1\n",
    "# datas = [\n",
    "#     f'data/data_fold/data_{fold_}/data_{fold_}_train.json',\n",
    "#     f'data/data_fold/data_{fold_}/data_{fold_}_valid.json',\n",
    "#     f'data/data_fold/data_{fold_}/data_{fold_}_test.json'\n",
    "# ]\n",
    "\n",
    "\n",
    "# # Entire data\n",
    "# datas = [\n",
    "#     'data/data_fold_test_IEMOCAP/data_0/data_0_train.json',\n",
    "#     'data/data_fold_test_IEMOCAP/data_0/data_0_valid.json',\n",
    "#     'data/data_fold_test_IEMOCAP/data_0/data_0_test.json'\n",
    "# ]\n",
    "\n"
   ]
  },
  {
   "cell_type": "code",
   "execution_count": 9,
   "metadata": {},
   "outputs": [
    {
     "name": "stdout",
     "output_type": "stream",
     "text": [
      "대화 개수:  834\n",
      "발화 개수:  8206\n",
      "Jacob , you have the luxury of having a haircut that rarely needs styling . I don ' t . I have to set aside about an hour and a half to get ready in the mornings . Every day , I wake up and head straight for the shower . Every second day , I wash my hair . If it ' s a hair-washing day , I frequently need to wash my hair twice because it gets really oily . Then I usually put in a conditioner and have to rinse that out too . Because my hair is so long , I seldom manage to take a shower in under twenty minutes . Afterwards , I often put on a pot of coffee and get dressed while I wait for it to brew . I take a long time to get dressed in the morning . Every now and then I remember to choose my outfit the night before , but usually I do it in the morning . In all , getting dressed takes about half an hour , at which time my hair is now semi-dry so then I have to style my hair . From time to time I ' ll put my hair up , but oftentimes I bloody it straight . And then , because of the texture of my hair , I regularly have to flat-iron it to keep it from frizzing . That ' s another twenty minutes or so . After that , I have my daily makeup routine .\n",
      "대화 개수:  47\n",
      "발화 개수:  493\n",
      "대화 개수:  225\n",
      "발화 개수:  2405\n",
      "전체 대화 개수:  1106\n",
      "전체 발화 개수:  11104\n",
      "angry : 451 ,\n",
      "\n",
      "disgust : 140 ,\n",
      "\n",
      "fear : 74 ,\n",
      "\n",
      "happy : 4361 ,\n",
      "\n",
      "sad : 351 ,\n",
      "\n",
      "surprise : 484 ,\n",
      "\n",
      "neutral : 5243 ,\n",
      "\n",
      "total : 11104 ,\n",
      "\n",
      "평균 발화 길이:  16.089697406340058\n",
      "{'angry': 451, 'disgust': 140, 'fear': 74, 'happy': 4361, 'sad': 351, 'surprise': 484, 'neutral': 5243, 'total': 11104}\n"
     ]
    }
   ],
   "source": [
    "sum_dailog = 0\n",
    "sum_utterance = 0\n",
    "\n",
    "\n",
    "emotion_label_policy = {'angry': 0, 'anger': 0,\n",
    "    'disgust': 1,\n",
    "    'fear': 2,\n",
    "    'happy': 3, 'happines': 3, 'happiness': 3, 'excited': 3,\n",
    "    'sad': 4, 'sadness': 4, 'frustrated': 4,\n",
    "    'surprise': 5, 'surprised': 5, \n",
    "    'neutral': 6}\n",
    "\n",
    "label_to_emotion_policy = ['angry', 'disgust', 'fear', 'happy', 'sad', 'surprise', 'neutral']\n",
    "\n",
    "max_dialog = 0\n",
    "min_dialog = float('inf')\n",
    "\n",
    "dialog_lengths = []\n",
    "utterance_emotions = []\n",
    "tokenizer = AutoTokenizer.from_pretrained('bert-base-multilingual-cased')\n",
    "utterance_lengths = []\n",
    "\n",
    "for datafile in datas:\n",
    "    with open(datafile, 'r') as f:\n",
    "        json_data = json.load(f)\n",
    "        print('대화 개수: ', len(json_data))\n",
    "        sum_dailog += len(json_data)\n",
    "        print('발화 개수: ', sum([len(json_data[d][0]) for d in json_data]))\n",
    "        sum_utterance += sum([len(json_data[d][0]) for d in json_data])\n",
    "        max_dialog = max(max_dialog, max([len(json_data[d][0]) for d in json_data]))\n",
    "        min_dialog = min(min_dialog, min([len(json_data[d][0]) for d in json_data]))\n",
    "        \n",
    "        dialog_lengths.append([len(json_data[d][0]) for d in json_data])\n",
    "        \n",
    "        for d in json_data:\n",
    "            for u in json_data[d][0]:\n",
    "                utterance_emotions.append(u['emotion'])\n",
    "                ulen = len(tokenizer.encode(u['utterance'])[1:-1])\n",
    "                utterance_lengths.append(ulen)\n",
    "                if ulen==287:\n",
    "                    print(u['utterance'])\n",
    "        \n",
    "        \n",
    "print('전체 대화 개수: ', sum_dailog)\n",
    "print('전체 발화 개수: ', sum_utterance)\n",
    "\n",
    "# replace emotion string in utterance_emotions to emotion label in emotion_label_policy\n",
    "for i, emotion in enumerate(utterance_emotions):\n",
    "    utterance_emotions[i] = emotion_label_policy[emotion]\n",
    "\n",
    "emotion_appearance = [0 for _ in range(len(emotion_label_policy))]\n",
    "    \n",
    "# replace emotion label to string in label_to_emotion_policy\n",
    "for i, emotion in enumerate(utterance_emotions):\n",
    "    utterance_emotions[i] = label_to_emotion_policy[emotion]    \n",
    "    emotion_appearance[emotion] += 1\n",
    "\n",
    "dict_emotion_appearance = {}\n",
    "\n",
    "dict_emotion_appearance['angry'] = emotion_appearance[0]\n",
    "dict_emotion_appearance['disgust'] = emotion_appearance[1]\n",
    "dict_emotion_appearance['fear'] = emotion_appearance[2]\n",
    "dict_emotion_appearance['happy'] = emotion_appearance[3]\n",
    "dict_emotion_appearance['sad'] = emotion_appearance[4]\n",
    "dict_emotion_appearance['surprise'] = emotion_appearance[5]\n",
    "dict_emotion_appearance['neutral'] = emotion_appearance[6]\n",
    "dict_emotion_appearance['total'] = sum(emotion_appearance)\n",
    "\n",
    "for d in dict_emotion_appearance:\n",
    "    print(d, ':', dict_emotion_appearance[d], ',\\n')\n",
    "\n",
    "# 평균 발화 길이\n",
    "print('평균 발화 길이: ', sum(utterance_lengths)/len(utterance_lengths))\n",
    "\n",
    "# pyplot으로 발화 길이 시각화\n",
    "\n",
    "\n",
    "print(dict_emotion_appearance)\n"
   ]
  },
  {
   "cell_type": "code",
   "execution_count": 4,
   "metadata": {},
   "outputs": [
    {
     "name": "stdout",
     "output_type": "stream",
     "text": [
      "data/data_fold/data_0/dailydialog_train.json :  3569807 bytes\n",
      "data/data_fold/data_0/dailydialog_valid.json :  191861 bytes\n",
      "data/data_fold/data_0/dailydialog_test.json :  972369 bytes\n"
     ]
    }
   ],
   "source": [
    "for datafile in datas:\n",
    "    file_size = os.path.getsize(datafile)\n",
    "    print(datafile, ': ', file_size, 'bytes')"
   ]
  },
  {
   "cell_type": "code",
   "execution_count": 3,
   "metadata": {},
   "outputs": [
    {
     "data": {
      "image/png": "[encoded data removed]",
      "text/plain": [
       "<Figure size 640x480 with 1 Axes>"
      ]
     },
     "metadata": {},
     "output_type": "display_data"
    }
   ],
   "source": [
    "# Visualize utterance lengths distribution data in the array utterance_lengths in a bar chart \n",
    "plt.hist(utterance_lengths,  bins=100)\n",
    "plt.xlabel('number of tokens')\n",
    "plt.ylabel('# of utterances')\n",
    "\n",
    "plt.show()"
   ]
  },
  {
   "cell_type": "code",
   "execution_count": 8,
   "metadata": {},
   "outputs": [
    {
     "name": "stdout",
     "output_type": "stream",
     "text": [
      "109 89 104 109 81 163 195 98 112 77 81 91 97 109 97 93 90 287 95 83 145 86 76 98 75 79 81 156 86 96 \n",
      "개수: 30\n"
     ]
    }
   ],
   "source": [
    "tmp_ = 0\n",
    "\n",
    "for i in utterance_lengths:\n",
    "    if i >= 75:\n",
    "        tmp_ += 1\n",
    "        print(i, end=\" \")\n",
    "\n",
    "print(f'\\n개수: {tmp_}')"
   ]
  },
  {
   "cell_type": "code",
   "execution_count": null,
   "metadata": {},
   "outputs": [],
   "source": []
  }
 ],
 "metadata": {
  "kernelspec": {
   "display_name": "prgmoe",
   "language": "python",
   "name": "python3"
  },
  "language_info": {
   "codemirror_mode": {
    "name": "ipython",
    "version": 3
   },
   "file_extension": ".py",
   "mimetype": "text/x-python",
   "name": "python",
   "nbconvert_exporter": "python",
   "pygments_lexer": "ipython3",
   "version": "3.10.10"
  },
  "orig_nbformat": 4
 },
 "nbformat": 4,
 "nbformat_minor": 2
}
